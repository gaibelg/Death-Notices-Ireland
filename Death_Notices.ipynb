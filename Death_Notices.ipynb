{
  "nbformat": 4,
  "nbformat_minor": 0,
  "metadata": {
    "colab": {
      "name": "Death Notices.ipynb",
      "provenance": [],
      "collapsed_sections": [],
      "include_colab_link": true
    },
    "kernelspec": {
      "name": "python3",
      "display_name": "Python 3"
    }
  },
  "cells": [
    {
      "cell_type": "markdown",
      "metadata": {
        "id": "view-in-github",
        "colab_type": "text"
      },
      "source": [
        "<a href=\"https://colab.research.google.com/github/gaibelg/Death-Notices-Ireland/blob/main/Death_Notices.ipynb\" target=\"_parent\"><img src=\"https://colab.research.google.com/assets/colab-badge.svg\" alt=\"Open In Colab\"/></a>"
      ]
    },
    {
      "cell_type": "code",
      "metadata": {
        "id": "OKyj-I4h4GTa"
      },
      "source": [
        "import requests\r\n",
        "from bs4 import BeautifulSoup\r\n",
        "import datetime\r\n",
        "from multiprocessing import Pool\r\n",
        "import pandas as pd\r\n",
        "\r\n",
        "def get_notice(dn_code):\r\n",
        "\r\n",
        "  data = {'dn_code': dn_code,\r\n",
        "          'link': f'https://rip.ie/showdn.php?dn={dn_code}',\r\n",
        "          'title': None,\r\n",
        "          'publish_date': None,\r\n",
        "          'death_date': None,\r\n",
        "          'scraping_time': str(datetime.datetime.now())}\r\n",
        "\r\n",
        "  try:\r\n",
        "    response = requests.get(f'https://rip.ie/showdn.php?dn={dn_code}')\r\n",
        "    \r\n",
        "    # If the request succeeded\r\n",
        "    if response.status_code == 200:\r\n",
        "\r\n",
        "      soup = BeautifulSoup(response.content.decode())\r\n",
        "      title = soup.title\r\n",
        "\r\n",
        "      # if you have reached an actual notice\r\n",
        "      if title is not None:\r\n",
        "        title = title.text\r\n",
        "        if title.startswith('Death Notice of '):\r\n",
        "  \r\n",
        "          publish_date = soup.find('div', attrs = {'class': 'dates dpubl'})\r\n",
        "          death_date = soup.find('div', attrs = {'class': 'dates ddeath textRight'})\r\n",
        "          \r\n",
        "          if publish_date is not None: data['publish_date'] = publish_date.text\r\n",
        "          if death_date is not None: data['death_date'] = death_date.text\r\n",
        "          data['title'] = title\r\n",
        "  \r\n",
        "  except Exception as ex:\r\n",
        "    print('Code: ', dn_code)\r\n",
        "    print(ex)\r\n",
        "\r\n",
        "  finally:\r\n",
        "\r\n",
        "    return data\r\n",
        "\r\n",
        "def repeated_requests(dn_code, N = 2):\r\n",
        "\r\n",
        "  \"\"\"In case of a bad request, a repeated request may come out valid. \r\n",
        "     This function makes `N` repeated requests in case of empty data.\"\"\"\r\n",
        "\r\n",
        "  for _ in range(N):\r\n",
        "    data = get_notice(dn_code)\r\n",
        "    if data['title'] is not None: \r\n",
        "      break\r\n",
        "    else:\r\n",
        "      print(f'Attempting to retrieve dn_code {dn_code} again.')\r\n",
        "\r\n",
        "  return data\r\n",
        "\r\n",
        "# The scraping is of this list of dn_codes. you can change the values here if you want different ranges\r\n",
        "dn_codes = list(range(444855,0,-1)) \r\n",
        "\r\n",
        "# The value in the `Pool` function is the amount of simultanous requests.\r\n",
        "\r\n",
        "with Pool(10) as p:\r\n",
        "\r\n",
        "  results = p.map(repeated_requests, dn_codes)\r\n",
        "\r\n",
        "df = pd.DataFrame(results).set_index('dn_code')\r\n",
        "df.to_csv('death_notices.csv')\r\n",
        "\r\n",
        "print('\\n**********\\n')\r\n",
        "print(df.info())"
      ],
      "execution_count": null,
      "outputs": []
    },
    {
      "cell_type": "code",
      "metadata": {
        "id": "rGai03u_nbyv"
      },
      "source": [
        "from google.colab import files\r\n",
        "files.download('death_notices.csv')"
      ],
      "execution_count": null,
      "outputs": []
    }
  ]
}